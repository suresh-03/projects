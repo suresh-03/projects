{
 "cells": [
  {
   "cell_type": "markdown",
   "metadata": {},
   "source": [
    "FILE OPERATION:-\n",
    "\n",
    "EXERCISE - 1"
   ]
  },
  {
   "cell_type": "code",
   "execution_count": null,
   "metadata": {},
   "outputs": [],
   "source": [
    "filename = \"/PYTHON/files and exceptions in python/files/python.txt\"\n",
    "concat = \"\"\n",
    "with open(filename) as python_file:\n",
    "    File = python_file.read()\n",
    "    print(File.strip(), \"\\n\")\n",
    "\n",
    "with open(filename) as python_file:\n",
    "    for line in python_file:\n",
    "        print(line.strip())\n",
    "print()\n",
    "\n",
    "with open(filename) as python_file:\n",
    "    for line in python_file:\n",
    "        concat += line.rstrip()\n",
    "print(concat)\n",
    "\n",
    "with open(filename) as python_file:\n",
    "    for line in python_file:\n",
    "        if \"about\" in line:\n",
    "            print(\"\\n\", line)\n",
    "        else:\n",
    "            break\n"
   ]
  },
  {
   "cell_type": "markdown",
   "metadata": {},
   "source": [
    "EXERCISE - 2\n"
   ]
  },
  {
   "cell_type": "code",
   "execution_count": null,
   "metadata": {},
   "outputs": [],
   "source": [
    "filename = \"/PYTHON/files and exceptions in python/files/python.txt\"\n",
    "\n",
    "with open(filename) as python_file:\n",
    "    line = python_file.read()\n",
    "    line = line.replace(\"python\", \"C++\")\n",
    "    print(line.rstrip())\n"
   ]
  },
  {
   "cell_type": "markdown",
   "metadata": {},
   "source": [
    "EXERCISE - 3"
   ]
  },
  {
   "cell_type": "code",
   "execution_count": null,
   "metadata": {},
   "outputs": [],
   "source": [
    "filename = \"/PYTHON/files and exceptions in python/files/guest.txt\"\n",
    "\n",
    "with open(filename, \"w\") as guest:\n",
    "    name = input(\"enter your name:\")\n",
    "    guest.write(f\"welcome {name.title()}!\")\n"
   ]
  },
  {
   "cell_type": "markdown",
   "metadata": {},
   "source": [
    "EXERCISE - 4"
   ]
  },
  {
   "cell_type": "code",
   "execution_count": null,
   "metadata": {},
   "outputs": [],
   "source": [
    "filename = \"/PYTHON/files and exceptions in python/files/guest_book.txt\"\n",
    "\n",
    "with open(filename, \"a\") as guests:\n",
    "    while True:\n",
    "        con = input(\"want yo continue press '1' OR\\nWant to exit press '0':\")\n",
    "        if con == \"1\":\n",
    "            name = input(\"enter your name:\")\n",
    "            guests.write(f\"welcome {name.title()}!\\n\")\n",
    "        elif con == \"0\":\n",
    "            print(\"thank you!\")\n",
    "            break\n",
    "        else:\n",
    "            print(\"give valid response!\")\n"
   ]
  },
  {
   "cell_type": "markdown",
   "metadata": {},
   "source": [
    "EXCEPTIONS:-\n",
    "\n",
    "EXERXISE - 1"
   ]
  },
  {
   "cell_type": "code",
   "execution_count": null,
   "metadata": {},
   "outputs": [],
   "source": [
    "while True:\n",
    "    num1 = input(\"enter the number or press 'q' to exit:\")\n",
    "    if num1 == \"q\":\n",
    "        break\n",
    "\n",
    "    num2 = input(\"enter another number or press 'q' to exit:\")\n",
    "    if num2 == \"q\":\n",
    "        break\n",
    "\n",
    "    try:\n",
    "        num3 = int(num1) / int(num2)\n",
    "    except:\n",
    "        print(\"you can't divide a number by 0\")\n",
    "    else:\n",
    "        print(\"the answer is\", num3)\n"
   ]
  },
  {
   "cell_type": "markdown",
   "metadata": {},
   "source": [
    "EXERCISE - 2"
   ]
  },
  {
   "cell_type": "code",
   "execution_count": null,
   "metadata": {},
   "outputs": [],
   "source": [
    "filename = \"/PYTHON/files and exceptions in python/files/book.txt\"\n",
    "\n",
    "try:\n",
    "    with open(filename) as PCC:\n",
    "        a = PCC.read()\n",
    "except:\n",
    "    print(\"file not found!\")\n",
    "else:\n",
    "    a = a.split()\n",
    "    print(len(a))\n"
   ]
  },
  {
   "cell_type": "markdown",
   "metadata": {},
   "source": [
    "EXERCISE - 3"
   ]
  },
  {
   "cell_type": "code",
   "execution_count": null,
   "metadata": {},
   "outputs": [],
   "source": [
    "a = \"suresh\"\n",
    "b = \"kumar\"\n",
    "try:\n",
    "    c = a + b\n",
    "    c = c.upper()\n",
    "    c = int(c)\n",
    "except TypeError:\n",
    "    print(\"check the type of your variables!\")\n",
    "except NameError:\n",
    "    print(\"check the name of your variables!\")\n",
    "except ValueError:\n",
    "    print(\"string is can't be converted into integer!\")\n",
    "else:\n",
    "    try:\n",
    "        print(c)\n",
    "    except NameError:\n",
    "        print(\"check your variable\")\n"
   ]
  },
  {
   "cell_type": "markdown",
   "metadata": {},
   "source": [
    "EXERCISE - 4"
   ]
  },
  {
   "cell_type": "code",
   "execution_count": null,
   "metadata": {},
   "outputs": [],
   "source": [
    "filename = [\n",
    "    \"/PYTHON/files and exceptions in python/files/animals.txt\",\n",
    "    \"/PYTHON/files and exceptions in python/files/birds.txt\",\n",
    "]\n",
    "hello = \"\"\n",
    "\n",
    "with open(filename[0]) as animals:\n",
    "    lines = animals.read()\n",
    "    for animal in lines:\n",
    "        hello += animal.strip()\n",
    "print(hello)\n",
    "\n",
    "if \"lion\" in hello:\n",
    "    hello = hello.replace(\"lion\", \"LION\")\n",
    "    print(hello)\n"
   ]
  },
  {
   "cell_type": "markdown",
   "metadata": {},
   "source": [
    "EXERCISE - 5"
   ]
  },
  {
   "cell_type": "code",
   "execution_count": null,
   "metadata": {},
   "outputs": [],
   "source": [
    "filename = [\n",
    "    \"/PYTHON/files and exceptions in python/files/animals.txt\",\n",
    "    \"/PYTHON/files and exceptions in python/files/birds.txt\",\n",
    "]\n",
    "\n",
    "\n",
    "def select(file_name, word):\n",
    "    try:\n",
    "        with open(file_name) as fn:\n",
    "            line = fn.read()\n",
    "            print(line)\n",
    "            print(\"\\n\", len(line.split()))\n",
    "            print(line.count(word))\n",
    "\n",
    "    except FileNotFoundError:\n",
    "        print(\"file not found!\")\n",
    "        # pass\n",
    "\n",
    "\n",
    "select(filename[0], \"o\")\n"
   ]
  },
  {
   "cell_type": "markdown",
   "metadata": {},
   "source": [
    "JSON FILES:-\n",
    "\n",
    "EXERCISE - 1"
   ]
  },
  {
   "cell_type": "code",
   "execution_count": null,
   "metadata": {},
   "outputs": [],
   "source": [
    "import json\n",
    "\n",
    "try:\n",
    "    fav_number = int(input(\"enter your favourite number:\"))\n",
    "except:\n",
    "    print(\"error occured\")\n",
    "else:\n",
    "    filename = \"fav_number.json\"\n",
    "    with open(filename, \"w\") as fn:\n",
    "        json.dump(fav_number, fn)\n",
    "\n",
    "    with open(filename) as fn:\n",
    "        a = json.load(fn)\n",
    "        print(\"your favourite number is:\", a)\n"
   ]
  },
  {
   "cell_type": "markdown",
   "metadata": {},
   "source": [
    "EXERCISE - 2"
   ]
  },
  {
   "cell_type": "code",
   "execution_count": null,
   "metadata": {},
   "outputs": [],
   "source": [
    "import json\n",
    "\n",
    "while True:\n",
    "    print(\"want to exit press '1':-\")\n",
    "\n",
    "    username = input(\"enter your name:\")\n",
    "    if username == \"1\":\n",
    "        break\n",
    "    fav_number = int(input(\"enter your favorite number:\"))\n",
    "    if fav_number == \"1\":\n",
    "        break\n",
    "    else:\n",
    "        user = {}\n",
    "        user[\"name\"] = username\n",
    "        user[\"favorite number\"] = fav_number\n",
    "        filename = \"dummy.json\"\n",
    "        with open(filename, \"w\") as fn:\n",
    "            json.dump(user, fn)\n",
    "\n",
    "        with open(filename) as a:\n",
    "            name = json.load(a)\n",
    "            for key, value in name.items():\n",
    "                print(key, \":\", value)\n"
   ]
  },
  {
   "cell_type": "markdown",
   "metadata": {},
   "source": [
    "EXERCISE - 3"
   ]
  },
  {
   "cell_type": "code",
   "execution_count": null,
   "metadata": {},
   "outputs": [],
   "source": [
    "import json\n",
    "\n",
    "filename = \"JSON.json\"\n",
    "\n",
    "\n",
    "def store_name(user_name):\n",
    "    with open(filename, \"w\") as fn:\n",
    "        json.dump(user_name, fn)\n",
    "    return user_name\n",
    "\n",
    "\n",
    "def new_user(new_name):\n",
    "    with open(filename, \"w\") as fn:\n",
    "        json.dump(new_name, fn)\n",
    "    with open(filename) as fn:\n",
    "        a = json.load(fn)\n",
    "        return a\n",
    "\n",
    "\n",
    "def check():\n",
    "    new = new_user(newuser)\n",
    "    user = store_name(username)\n",
    "    if user == new:\n",
    "        print(\"welcome back\", user)\n",
    "        # return None\n",
    "    else:\n",
    "        print(\"we will remember you when you come back\", new_user(newuser))\n",
    "\n",
    "\n",
    "username = \"suresh\"\n"
   ]
  },
  {
   "cell_type": "markdown",
   "metadata": {},
   "source": [
    "EXERCISE - 4"
   ]
  },
  {
   "cell_type": "code",
   "execution_count": null,
   "metadata": {},
   "outputs": [],
   "source": [
    "def order(size, *toppings):\n",
    "    c = []\n",
    "    a = f\"{size} inch pizza is made with:\"\n",
    "    for topping in toppings:\n",
    "        c.append(topping)\n",
    "    return a + str(c)\n",
    "\n",
    "\n",
    "order(30, \"mushrom\", \"chilli\", \"gobi\")\n"
   ]
  },
  {
   "cell_type": "markdown",
   "metadata": {},
   "source": [
    "EXERCISE - 5"
   ]
  },
  {
   "cell_type": "code",
   "execution_count": null,
   "metadata": {},
   "outputs": [],
   "source": [
    "def people(name, followers, connections=\"\"):\n",
    "    p_name = f\"name :{name}\"\n",
    "    p_follow = f\" -- followers : {followers}\"\n",
    "\n",
    "    if connections:\n",
    "        p_connection = f\" -- connections : {connections}\"\n",
    "        detail = p_name + str(p_follow) + str(p_connection)\n",
    "    else:\n",
    "        detail = p_name + str(p_follow)\n",
    "    return detail\n",
    "\n",
    "\n",
    "a = (people(\"suresh\", 80, 100))\n",
    "a = a.replace(\" \",\"\")\n",
    "a = a.replace(\"--\",\" \")\n",
    "a = a.split()\n",
    "\n",
    "for l in a:\n",
    "    print(l)"
   ]
  }
 ],
 "metadata": {
  "kernelspec": {
   "display_name": "Python 3.10.5 64-bit",
   "language": "python",
   "name": "python3"
  },
  "language_info": {
   "codemirror_mode": {
    "name": "ipython",
    "version": 3
   },
   "file_extension": ".py",
   "mimetype": "text/x-python",
   "name": "python",
   "nbconvert_exporter": "python",
   "pygments_lexer": "ipython3",
   "version": "3.10.5"
  },
  "orig_nbformat": 4,
  "vscode": {
   "interpreter": {
    "hash": "a0ddb90492f8d1bdee1f8f8df001f9d37e3d054a8e6c6397aa35cbabbfc0bbab"
   }
  }
 },
 "nbformat": 4,
 "nbformat_minor": 2
}
